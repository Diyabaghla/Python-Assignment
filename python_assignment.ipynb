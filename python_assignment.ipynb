{
  "nbformat": 4,
  "nbformat_minor": 0,
  "metadata": {
    "colab": {
      "provenance": [],
      "authorship_tag": "ABX9TyMYy0Ej5czh9JpJkvN5BwcK",
      "include_colab_link": true
    },
    "kernelspec": {
      "name": "python3",
      "display_name": "Python 3"
    },
    "language_info": {
      "name": "python"
    }
  },
  "cells": [
    {
      "cell_type": "markdown",
      "metadata": {
        "id": "view-in-github",
        "colab_type": "text"
      },
      "source": [
        "<a href=\"https://colab.research.google.com/github/Diyabaghla/Python-Assignment/blob/main/python_assignment.ipynb\" target=\"_parent\"><img src=\"https://colab.research.google.com/assets/colab-badge.svg\" alt=\"Open In Colab\"/></a>"
      ]
    },
    {
      "cell_type": "markdown",
      "source": [
        "Q1. L is a list defined as L= [11, 12, 13, 14]."
      ],
      "metadata": {
        "id": "8fzk-I3xsPqp"
      }
    },
    {
      "cell_type": "code",
      "execution_count": 1,
      "metadata": {
        "colab": {
          "base_uri": "https://localhost:8080/"
        },
        "id": "cHzGvpWKcNIs",
        "outputId": "cee01d9b-ecfd-4c94-bb3c-5cd6edfa7b70"
      },
      "outputs": [
        {
          "output_type": "stream",
          "name": "stdout",
          "text": [
            "[11, 12, 13, 14, 50, 60]\n"
          ]
        }
      ],
      "source": [
        "#(i) WAP to add 50 and 60 to L.\n",
        "l=[11,12,13,14]\n",
        "l.extend([50,60])\n",
        "print(l)"
      ]
    },
    {
      "cell_type": "code",
      "source": [
        "#(ii) WAP to remove 11 and 13from L.\n",
        "l.remove(11)\n",
        "l.remove(13)\n",
        "print(l)"
      ],
      "metadata": {
        "colab": {
          "base_uri": "https://localhost:8080/"
        },
        "id": "mLsobgtVc6Ij",
        "outputId": "88a19eb7-dddb-4bb9-a301-05939c97beb8"
      },
      "execution_count": 2,
      "outputs": [
        {
          "output_type": "stream",
          "name": "stdout",
          "text": [
            "[12, 14, 50, 60]\n"
          ]
        }
      ]
    },
    {
      "cell_type": "code",
      "source": [
        "#(iii) WAP to sort L in ascending order.\n",
        "l.sort()\n",
        "print(l)"
      ],
      "metadata": {
        "colab": {
          "base_uri": "https://localhost:8080/"
        },
        "id": "8WwBRkIzc6VL",
        "outputId": "1f66298d-a7cd-4d16-cbdd-559a20700af8"
      },
      "execution_count": 3,
      "outputs": [
        {
          "output_type": "stream",
          "name": "stdout",
          "text": [
            "[12, 14, 50, 60]\n"
          ]
        }
      ]
    },
    {
      "cell_type": "code",
      "source": [
        "#(iv) WAP to sort L in descending order.\n",
        "l.sort(reverse=True)\n",
        "print(l)"
      ],
      "metadata": {
        "colab": {
          "base_uri": "https://localhost:8080/"
        },
        "id": "hBbLkxNIc6ek",
        "outputId": "7862957c-507f-4346-d492-76b699018736"
      },
      "execution_count": 4,
      "outputs": [
        {
          "output_type": "stream",
          "name": "stdout",
          "text": [
            "[60, 50, 14, 12]\n"
          ]
        }
      ]
    },
    {
      "cell_type": "code",
      "source": [
        "#(v) WAP to search for 13 in L.\n",
        "print(13 in l)"
      ],
      "metadata": {
        "colab": {
          "base_uri": "https://localhost:8080/"
        },
        "id": "p9VNh6h0dRmm",
        "outputId": "f135c3dd-a725-4d5c-9ecb-5ed1af7eeae3"
      },
      "execution_count": 5,
      "outputs": [
        {
          "output_type": "stream",
          "name": "stdout",
          "text": [
            "False\n"
          ]
        }
      ]
    },
    {
      "cell_type": "code",
      "source": [
        "#(vi) WAP to count the number of elements present in L.\n",
        "print(len(l))"
      ],
      "metadata": {
        "colab": {
          "base_uri": "https://localhost:8080/"
        },
        "id": "aelZ7lZedRyC",
        "outputId": "3139cc9a-e1c7-4504-bf90-fa78846dc9d8"
      },
      "execution_count": 6,
      "outputs": [
        {
          "output_type": "stream",
          "name": "stdout",
          "text": [
            "4\n"
          ]
        }
      ]
    },
    {
      "cell_type": "code",
      "source": [
        "#(vii) WAP to sum all the elements in L.\n",
        "print(sum(l))"
      ],
      "metadata": {
        "colab": {
          "base_uri": "https://localhost:8080/"
        },
        "id": "TTTxERdsdR9x",
        "outputId": "7875fa0e-a2bc-4183-aec3-c0bba73947d5"
      },
      "execution_count": 7,
      "outputs": [
        {
          "output_type": "stream",
          "name": "stdout",
          "text": [
            "136\n"
          ]
        }
      ]
    },
    {
      "cell_type": "code",
      "source": [
        "#(viii) WAP to sum all ODD numbers in L.\n",
        "s=0\n",
        "for i in l:\n",
        "    if(i%2!=0):\n",
        "        s=s+i\n",
        "print(s)"
      ],
      "metadata": {
        "colab": {
          "base_uri": "https://localhost:8080/"
        },
        "id": "EF5j9vnUdSBP",
        "outputId": "2d2e6536-b6d6-4e46-8f15-1686bb70eb0e"
      },
      "execution_count": 8,
      "outputs": [
        {
          "output_type": "stream",
          "name": "stdout",
          "text": [
            "0\n"
          ]
        }
      ]
    },
    {
      "cell_type": "code",
      "source": [
        "#(ix) WAP to sum all EVEN numbers in L.\n",
        "s=0\n",
        "for i in l:\n",
        "    if(i%2==0):\n",
        "        s=s+i\n",
        "print(s)"
      ],
      "metadata": {
        "colab": {
          "base_uri": "https://localhost:8080/"
        },
        "id": "OOKHptwZdn6t",
        "outputId": "2d30a578-91c1-4cce-851f-c328dd2f212a"
      },
      "execution_count": 9,
      "outputs": [
        {
          "output_type": "stream",
          "name": "stdout",
          "text": [
            "136\n"
          ]
        }
      ]
    },
    {
      "cell_type": "code",
      "source": [
        "#(x) WAP to sum all PRIME numbers in L.\n",
        "def test(l):\n",
        "    if(len(l)>0):\n",
        "        return sum(list(filter(lambda x:(x>1 and all(x%y!=0 for y in range(2,x))),l)))\n",
        "    else:\n",
        "        return \"empty list\"\n",
        "test(l)\n"
      ],
      "metadata": {
        "colab": {
          "base_uri": "https://localhost:8080/"
        },
        "id": "xHPdbDFXdvnB",
        "outputId": "7c9817b6-feb5-47ed-e7cf-a2060f0f08cf"
      },
      "execution_count": 10,
      "outputs": [
        {
          "output_type": "execute_result",
          "data": {
            "text/plain": [
              "0"
            ]
          },
          "metadata": {},
          "execution_count": 10
        }
      ]
    },
    {
      "cell_type": "code",
      "source": [
        "#(xi) WAP to clear all the elements in L.\n",
        "l.clear()\n",
        "print(l)"
      ],
      "metadata": {
        "colab": {
          "base_uri": "https://localhost:8080/"
        },
        "id": "0C3Wk8cQdvvC",
        "outputId": "dc2ced33-44f9-42d7-e57c-73ada6638c3f"
      },
      "execution_count": 11,
      "outputs": [
        {
          "output_type": "stream",
          "name": "stdout",
          "text": [
            "[]\n"
          ]
        }
      ]
    },
    {
      "cell_type": "code",
      "source": [
        "#(xii) WAP to delete L.\n",
        "del(l)\n",
        "print(l)"
      ],
      "metadata": {
        "colab": {
          "base_uri": "https://localhost:8080/",
          "height": 176
        },
        "id": "lOSjDqxudv00",
        "outputId": "1dfd68c0-afba-47e7-8941-0d78fdb4084e"
      },
      "execution_count": 12,
      "outputs": [
        {
          "output_type": "error",
          "ename": "NameError",
          "evalue": "name 'l' is not defined",
          "traceback": [
            "\u001b[0;31m---------------------------------------------------------------------------\u001b[0m",
            "\u001b[0;31mNameError\u001b[0m                                 Traceback (most recent call last)",
            "\u001b[0;32m<ipython-input-12-de63fba419f6>\u001b[0m in \u001b[0;36m<cell line: 3>\u001b[0;34m()\u001b[0m\n\u001b[1;32m      1\u001b[0m \u001b[0;31m#(xii) WAP to delete L.\u001b[0m\u001b[0;34m\u001b[0m\u001b[0;34m\u001b[0m\u001b[0m\n\u001b[1;32m      2\u001b[0m \u001b[0;32mdel\u001b[0m\u001b[0;34m(\u001b[0m\u001b[0ml\u001b[0m\u001b[0;34m)\u001b[0m\u001b[0;34m\u001b[0m\u001b[0;34m\u001b[0m\u001b[0m\n\u001b[0;32m----> 3\u001b[0;31m \u001b[0mprint\u001b[0m\u001b[0;34m(\u001b[0m\u001b[0ml\u001b[0m\u001b[0;34m)\u001b[0m\u001b[0;34m\u001b[0m\u001b[0;34m\u001b[0m\u001b[0m\n\u001b[0m",
            "\u001b[0;31mNameError\u001b[0m: name 'l' is not defined"
          ]
        }
      ]
    },
    {
      "cell_type": "markdown",
      "source": [
        "Q2. D is a dictionary defined as D= {1:5.6, 2:7.8, 3:6.6, 4:8.7, 5:7.7}."
      ],
      "metadata": {
        "id": "OumKKb4Xtl80"
      }
    },
    {
      "cell_type": "code",
      "source": [
        "D={1:5.6,2:7.8,3:6.6,4:8.7,5:7.7}\n",
        "print(D)"
      ],
      "metadata": {
        "colab": {
          "base_uri": "https://localhost:8080/"
        },
        "id": "GvYGW2Zodv2n",
        "outputId": "ba9a10c8-2fd6-4eb8-ead1-103b5e93033c"
      },
      "execution_count": 13,
      "outputs": [
        {
          "output_type": "stream",
          "name": "stdout",
          "text": [
            "{1: 5.6, 2: 7.8, 3: 6.6, 4: 8.7, 5: 7.7}\n"
          ]
        }
      ]
    },
    {
      "cell_type": "code",
      "source": [
        "#(i) WAP to add new entry in D; key=8 and value is 8.8\n",
        "D[8]=8.8\n",
        "print(D)"
      ],
      "metadata": {
        "colab": {
          "base_uri": "https://localhost:8080/"
        },
        "id": "lXEFX8nIdv6E",
        "outputId": "9359b7c7-a1f4-4c41-cb5d-52a81f6b1849"
      },
      "execution_count": 14,
      "outputs": [
        {
          "output_type": "stream",
          "name": "stdout",
          "text": [
            "{1: 5.6, 2: 7.8, 3: 6.6, 4: 8.7, 5: 7.7, 8: 8.8}\n"
          ]
        }
      ]
    },
    {
      "cell_type": "code",
      "source": [
        "#(ii) WAP to remove key=2.\n",
        "D.pop(2)\n",
        "print(D)"
      ],
      "metadata": {
        "colab": {
          "base_uri": "https://localhost:8080/"
        },
        "id": "byDFTtqsfPZv",
        "outputId": "d3fa1274-d1d3-41d7-979e-ae9692250ed5"
      },
      "execution_count": 15,
      "outputs": [
        {
          "output_type": "stream",
          "name": "stdout",
          "text": [
            "{1: 5.6, 3: 6.6, 4: 8.7, 5: 7.7, 8: 8.8}\n"
          ]
        }
      ]
    },
    {
      "cell_type": "code",
      "source": [
        "#(iii) WAP to check weather 6 key is present in D.\n",
        "print(6 in D)"
      ],
      "metadata": {
        "colab": {
          "base_uri": "https://localhost:8080/"
        },
        "id": "ZswJjpPVfPcD",
        "outputId": "483fbbc1-b8ad-4491-d871-1366ed34b6b0"
      },
      "execution_count": 16,
      "outputs": [
        {
          "output_type": "stream",
          "name": "stdout",
          "text": [
            "False\n"
          ]
        }
      ]
    },
    {
      "cell_type": "code",
      "source": [
        "#(iv) WAP to count the number of elements present in D.\n",
        "print(len(D))"
      ],
      "metadata": {
        "colab": {
          "base_uri": "https://localhost:8080/"
        },
        "id": "e1WaXVuQfPeO",
        "outputId": "28101c47-3367-44ae-9d41-fce6fd2d6895"
      },
      "execution_count": 17,
      "outputs": [
        {
          "output_type": "stream",
          "name": "stdout",
          "text": [
            "5\n"
          ]
        }
      ]
    },
    {
      "cell_type": "code",
      "source": [
        "#(v) WAP to add all the values present D.\n",
        "print(sum(D.values()))"
      ],
      "metadata": {
        "colab": {
          "base_uri": "https://localhost:8080/"
        },
        "id": "Ywt_uYcDfPgH",
        "outputId": "275b62a4-eebf-4945-99cd-895cfd87e96b"
      },
      "execution_count": 18,
      "outputs": [
        {
          "output_type": "stream",
          "name": "stdout",
          "text": [
            "37.4\n"
          ]
        }
      ]
    },
    {
      "cell_type": "code",
      "source": [
        "#(vi) WAP to update the value of 3 to 7.1.\n",
        "D[3]=7.1\n",
        "print(D)"
      ],
      "metadata": {
        "colab": {
          "base_uri": "https://localhost:8080/"
        },
        "id": "_eB9TbcRfPj4",
        "outputId": "b54e2849-e0a8-485d-8c89-cf074ba914e5"
      },
      "execution_count": 19,
      "outputs": [
        {
          "output_type": "stream",
          "name": "stdout",
          "text": [
            "{1: 5.6, 3: 7.1, 4: 8.7, 5: 7.7, 8: 8.8}\n"
          ]
        }
      ]
    },
    {
      "cell_type": "code",
      "source": [
        "#(vii) WAP to clear the dictionary.\n",
        "D.clear()\n",
        "print(D)"
      ],
      "metadata": {
        "colab": {
          "base_uri": "https://localhost:8080/"
        },
        "id": "8VGssHsBfsey",
        "outputId": "14412cd8-907d-499a-d2e4-86330f45f379"
      },
      "execution_count": 20,
      "outputs": [
        {
          "output_type": "stream",
          "name": "stdout",
          "text": [
            "{}\n"
          ]
        }
      ]
    },
    {
      "cell_type": "markdown",
      "source": [
        "Q3. S1 is a set defined as S1= [10, 20, 30, 40, 50, 60].\n",
        "S2 is a set defined as S2= [40, 50, 60, 70, 80, 90]."
      ],
      "metadata": {
        "id": "yyTo1rYQuhRr"
      }
    },
    {
      "cell_type": "code",
      "source": [
        "s1=set([10,20,30,40,50,60])\n",
        "s2=set([40,50,60,70,80,90])\n",
        "print(s1)"
      ],
      "metadata": {
        "colab": {
          "base_uri": "https://localhost:8080/"
        },
        "id": "l2rxOF7xfsgf",
        "outputId": "4ad4f5a3-cf06-4c44-b1d6-ef5cf3006c91"
      },
      "execution_count": 21,
      "outputs": [
        {
          "output_type": "stream",
          "name": "stdout",
          "text": [
            "{40, 10, 50, 20, 60, 30}\n"
          ]
        }
      ]
    },
    {
      "cell_type": "code",
      "source": [
        "s2"
      ],
      "metadata": {
        "colab": {
          "base_uri": "https://localhost:8080/"
        },
        "id": "KR5jxcVyfskZ",
        "outputId": "914d8b81-4e15-4c44-bd3c-45b5a428b3a5"
      },
      "execution_count": 22,
      "outputs": [
        {
          "output_type": "execute_result",
          "data": {
            "text/plain": [
              "{40, 50, 60, 70, 80, 90}"
            ]
          },
          "metadata": {},
          "execution_count": 22
        }
      ]
    },
    {
      "cell_type": "code",
      "source": [
        "#(i) WAP to add 55 and 66 in Set S1.\n",
        "s1.add(55)\n",
        "s1.add(66)\n",
        "print(s1)"
      ],
      "metadata": {
        "colab": {
          "base_uri": "https://localhost:8080/"
        },
        "id": "IHecIc-tfsm-",
        "outputId": "22ffb4be-0d13-4e21-ec50-410ba81bbb61"
      },
      "execution_count": 23,
      "outputs": [
        {
          "output_type": "stream",
          "name": "stdout",
          "text": [
            "{66, 40, 10, 50, 20, 55, 60, 30}\n"
          ]
        }
      ]
    },
    {
      "cell_type": "code",
      "source": [
        "#(ii) WAP to remove 10 and 30 from Set S1.\n",
        "s1.remove(10)\n",
        "s1.remove(30)\n",
        "print(s1)"
      ],
      "metadata": {
        "colab": {
          "base_uri": "https://localhost:8080/"
        },
        "id": "PvRORpSAfsqI",
        "outputId": "c14a8a42-35b1-418b-8e52-b82df5309d42"
      },
      "execution_count": 24,
      "outputs": [
        {
          "output_type": "stream",
          "name": "stdout",
          "text": [
            "{66, 40, 50, 20, 55, 60}\n"
          ]
        }
      ]
    },
    {
      "cell_type": "code",
      "source": [
        "#(iii) WAP to check whether 40 is present in S1.\n",
        "print(40 in s1)"
      ],
      "metadata": {
        "colab": {
          "base_uri": "https://localhost:8080/"
        },
        "id": "BDQt4I3ShKDK",
        "outputId": "f781b28e-bd7b-4335-96cb-8f31ff1b509a"
      },
      "execution_count": 25,
      "outputs": [
        {
          "output_type": "stream",
          "name": "stdout",
          "text": [
            "True\n"
          ]
        }
      ]
    },
    {
      "cell_type": "code",
      "source": [
        "#(iv) WAP to find the union between S1 and S2.\n",
        "print(s1.union(s2))"
      ],
      "metadata": {
        "colab": {
          "base_uri": "https://localhost:8080/"
        },
        "id": "9EumerRrhKFn",
        "outputId": "4f790bdf-fb56-4d2d-bf61-a661144a89cb"
      },
      "execution_count": 26,
      "outputs": [
        {
          "output_type": "stream",
          "name": "stdout",
          "text": [
            "{66, 70, 40, 80, 50, 20, 55, 90, 60}\n"
          ]
        }
      ]
    },
    {
      "cell_type": "code",
      "source": [
        "#(v) WAP to find the intersection between S1 and S2.\n",
        "print(s1.intersection(s2))"
      ],
      "metadata": {
        "colab": {
          "base_uri": "https://localhost:8080/"
        },
        "id": "cvs-YzddhKHv",
        "outputId": "d8f34197-61d8-4c52-a5eb-3496464d3540"
      },
      "execution_count": 27,
      "outputs": [
        {
          "output_type": "stream",
          "name": "stdout",
          "text": [
            "{40, 50, 60}\n"
          ]
        }
      ]
    },
    {
      "cell_type": "code",
      "source": [
        "#(vi) WAP to find the S1 - S2.\n",
        "print(s1-s2)"
      ],
      "metadata": {
        "colab": {
          "base_uri": "https://localhost:8080/"
        },
        "id": "JbWvyijRhKJs",
        "outputId": "270a927a-8e5b-4b2d-a001-f9e1b86c2fb4"
      },
      "execution_count": 28,
      "outputs": [
        {
          "output_type": "stream",
          "name": "stdout",
          "text": [
            "{66, 20, 55}\n"
          ]
        }
      ]
    },
    {
      "cell_type": "code",
      "source": [
        "#Symmetric difference\n",
        "print(s1^s2)"
      ],
      "metadata": {
        "colab": {
          "base_uri": "https://localhost:8080/"
        },
        "id": "jYxPW9ZLhKL2",
        "outputId": "f3809ec9-ca24-4d18-ec39-729d651a7c84"
      },
      "execution_count": 29,
      "outputs": [
        {
          "output_type": "stream",
          "name": "stdout",
          "text": [
            "{66, 70, 80, 20, 55, 90}\n"
          ]
        }
      ]
    },
    {
      "cell_type": "markdown",
      "source": [
        "Q4. Write the following program."
      ],
      "metadata": {
        "id": "_2-bAlhivmGl"
      }
    },
    {
      "cell_type": "code",
      "source": [
        "import random as r\n",
        "import string as s\n"
      ],
      "metadata": {
        "id": "r6GVTKYehKNJ"
      },
      "execution_count": 30,
      "outputs": []
    },
    {
      "cell_type": "code",
      "source": [
        "#(i) WAP to print 100 random strings whose length between 6 and 8.\n",
        "print(\"string-->\",s.ascii_letters)\n",
        "for i in range(1,101):\n",
        "  a=r.randint(6,8)\n",
        "  str1=r.sample(s.ascii_letters,a)\n",
        "  str2=\"\".join(str1)\n",
        "  print(str2)"
      ],
      "metadata": {
        "colab": {
          "base_uri": "https://localhost:8080/"
        },
        "id": "bNKICWLYhKQt",
        "outputId": "f4547784-ff22-4542-e213-086f11ddc6a5"
      },
      "execution_count": 33,
      "outputs": [
        {
          "output_type": "stream",
          "name": "stdout",
          "text": [
            "string--> abcdefghijklmnopqrstuvwxyzABCDEFGHIJKLMNOPQRSTUVWXYZ\n",
            "GuKSQD\n",
            "xDIcLlvd\n",
            "JyOEjqB\n",
            "ovqIcxP\n",
            "HoVmcU\n",
            "JYnBpkG\n",
            "ubPyWMI\n",
            "tdEvPhc\n",
            "ZDItFhX\n",
            "EcfyLDM\n",
            "sRlbku\n",
            "qzwSimPh\n",
            "tVUTKa\n",
            "BUsuxI\n",
            "lLWRUru\n",
            "UQikWoMn\n",
            "RbxupYfd\n",
            "eljpyTUd\n",
            "LbnzPV\n",
            "PCtmydu\n",
            "smqnvd\n",
            "ZpnryLk\n",
            "xqARflH\n",
            "PLxFGps\n",
            "MfTUCB\n",
            "mGBEZzR\n",
            "SDTXQFk\n",
            "wJXgyGm\n",
            "ybWQztGa\n",
            "LmMtUY\n",
            "SpHcas\n",
            "FaELXr\n",
            "LbNwpSPc\n",
            "gaNHQP\n",
            "yrsgwPkx\n",
            "JzebEu\n",
            "XLrqge\n",
            "awWufgB\n",
            "VEsDtR\n",
            "XBVJCYoF\n",
            "MqbZpVa\n",
            "gydxKaF\n",
            "uvLlAi\n",
            "hrjTZDdW\n",
            "ZgdkWRM\n",
            "CUAVyLT\n",
            "fkELgiJD\n",
            "fEHFdJ\n",
            "hkOaQmR\n",
            "RbquKD\n",
            "QXsLowOt\n",
            "zmocCqu\n",
            "IsxkMJf\n",
            "khFUIe\n",
            "SJpDQs\n",
            "IWadwLbg\n",
            "sgNeABP\n",
            "ZEcCVLed\n",
            "QTiYtp\n",
            "ogZPhIUk\n",
            "WDoOLXZ\n",
            "JXQvVo\n",
            "WFNcSu\n",
            "OdAISQ\n",
            "UWunfdr\n",
            "IkweHvo\n",
            "YvzfWg\n",
            "odUNVGCl\n",
            "BgcXGK\n",
            "iEZjItQJ\n",
            "MqeKVSYT\n",
            "IhZbqd\n",
            "PiXStqWs\n",
            "fUpIGkgP\n",
            "GNiCDH\n",
            "VftqAa\n",
            "BkQOMG\n",
            "VjMNqbDJ\n",
            "UocnOKu\n",
            "jnBqsF\n",
            "yNBVdMu\n",
            "OEBraiUo\n",
            "xsOmkP\n",
            "TKymNA\n",
            "XnzSHAV\n",
            "XNrOahCK\n",
            "CUDmcbLx\n",
            "WNqVLS\n",
            "tEvgIak\n",
            "MTRQyY\n",
            "xapOtPw\n",
            "kWYmrK\n",
            "ZcwmkSVz\n",
            "oHLCFjz\n",
            "DgsKiqS\n",
            "djZGlQXf\n",
            "TtpZOmF\n",
            "ABzNcYP\n",
            "GWkVmZ\n",
            "aAjHYu\n"
          ]
        }
      ]
    },
    {
      "cell_type": "code",
      "source": [
        "#(ii) WAP to print all prime numbers between 600 and 800.\n",
        "for n in range(600,801):\n",
        "  if n>1:\n",
        "    for i in range(2,n):\n",
        "      if n%i==0:\n",
        "        break\n",
        "    else:\n",
        "      print(n)\n",
        "\n"
      ],
      "metadata": {
        "colab": {
          "base_uri": "https://localhost:8080/"
        },
        "id": "zJrQcQsem8hH",
        "outputId": "d0a2dbaa-d471-43c6-c754-df642aa21140"
      },
      "execution_count": null,
      "outputs": [
        {
          "output_type": "stream",
          "name": "stdout",
          "text": [
            "601\n",
            "607\n",
            "613\n",
            "617\n",
            "619\n",
            "631\n",
            "641\n",
            "643\n",
            "647\n",
            "653\n",
            "659\n",
            "661\n",
            "673\n",
            "677\n",
            "683\n",
            "691\n",
            "701\n",
            "709\n",
            "719\n",
            "727\n",
            "733\n",
            "739\n",
            "743\n",
            "751\n",
            "757\n",
            "761\n",
            "769\n",
            "773\n",
            "787\n",
            "797\n"
          ]
        }
      ]
    },
    {
      "cell_type": "code",
      "source": [
        "#(iii) WAP to print all numbers between 100 and 1000 that are divisible by 7 and 9.\n",
        "for n1 in range(100,1001):\n",
        "    if(n1%7==0 or n1%9==0):\n",
        "      print(n1)\n"
      ],
      "metadata": {
        "colab": {
          "base_uri": "https://localhost:8080/"
        },
        "id": "Py8mWuDfm8i-",
        "outputId": "f97f5e51-dd56-4679-a84c-31f1beb3b1bb"
      },
      "execution_count": null,
      "outputs": [
        {
          "output_type": "stream",
          "name": "stdout",
          "text": [
            "105\n",
            "108\n",
            "112\n",
            "117\n",
            "119\n",
            "126\n",
            "133\n",
            "135\n",
            "140\n",
            "144\n",
            "147\n",
            "153\n",
            "154\n",
            "161\n",
            "162\n",
            "168\n",
            "171\n",
            "175\n",
            "180\n",
            "182\n",
            "189\n",
            "196\n",
            "198\n",
            "203\n",
            "207\n",
            "210\n",
            "216\n",
            "217\n",
            "224\n",
            "225\n",
            "231\n",
            "234\n",
            "238\n",
            "243\n",
            "245\n",
            "252\n",
            "259\n",
            "261\n",
            "266\n",
            "270\n",
            "273\n",
            "279\n",
            "280\n",
            "287\n",
            "288\n",
            "294\n",
            "297\n",
            "301\n",
            "306\n",
            "308\n",
            "315\n",
            "322\n",
            "324\n",
            "329\n",
            "333\n",
            "336\n",
            "342\n",
            "343\n",
            "350\n",
            "351\n",
            "357\n",
            "360\n",
            "364\n",
            "369\n",
            "371\n",
            "378\n",
            "385\n",
            "387\n",
            "392\n",
            "396\n",
            "399\n",
            "405\n",
            "406\n",
            "413\n",
            "414\n",
            "420\n",
            "423\n",
            "427\n",
            "432\n",
            "434\n",
            "441\n",
            "448\n",
            "450\n",
            "455\n",
            "459\n",
            "462\n",
            "468\n",
            "469\n",
            "476\n",
            "477\n",
            "483\n",
            "486\n",
            "490\n",
            "495\n",
            "497\n",
            "504\n",
            "511\n",
            "513\n",
            "518\n",
            "522\n",
            "525\n",
            "531\n",
            "532\n",
            "539\n",
            "540\n",
            "546\n",
            "549\n",
            "553\n",
            "558\n",
            "560\n",
            "567\n",
            "574\n",
            "576\n",
            "581\n",
            "585\n",
            "588\n",
            "594\n",
            "595\n",
            "602\n",
            "603\n",
            "609\n",
            "612\n",
            "616\n",
            "621\n",
            "623\n",
            "630\n",
            "637\n",
            "639\n",
            "644\n",
            "648\n",
            "651\n",
            "657\n",
            "658\n",
            "665\n",
            "666\n",
            "672\n",
            "675\n",
            "679\n",
            "684\n",
            "686\n",
            "693\n",
            "700\n",
            "702\n",
            "707\n",
            "711\n",
            "714\n",
            "720\n",
            "721\n",
            "728\n",
            "729\n",
            "735\n",
            "738\n",
            "742\n",
            "747\n",
            "749\n",
            "756\n",
            "763\n",
            "765\n",
            "770\n",
            "774\n",
            "777\n",
            "783\n",
            "784\n",
            "791\n",
            "792\n",
            "798\n",
            "801\n",
            "805\n",
            "810\n",
            "812\n",
            "819\n",
            "826\n",
            "828\n",
            "833\n",
            "837\n",
            "840\n",
            "846\n",
            "847\n",
            "854\n",
            "855\n",
            "861\n",
            "864\n",
            "868\n",
            "873\n",
            "875\n",
            "882\n",
            "889\n",
            "891\n",
            "896\n",
            "900\n",
            "903\n",
            "909\n",
            "910\n",
            "917\n",
            "918\n",
            "924\n",
            "927\n",
            "931\n",
            "936\n",
            "938\n",
            "945\n",
            "952\n",
            "954\n",
            "959\n",
            "963\n",
            "966\n",
            "972\n",
            "973\n",
            "980\n",
            "981\n",
            "987\n",
            "990\n",
            "994\n",
            "999\n"
          ]
        }
      ]
    },
    {
      "cell_type": "markdown",
      "source": [
        "Q5. WAP to create two lists of 10 random numbers between 10 and 30; Find"
      ],
      "metadata": {
        "id": "ooyoW5m0xM7T"
      }
    },
    {
      "cell_type": "code",
      "source": [
        "l=[i for i in range(10,30)]\n",
        "print(l)\n",
        "l1=r.sample(l,10)\n",
        "l2=r.sample(l,10)\n",
        "print(\"l1-->\",l1)\n",
        "print(\"l2-->\",l2)"
      ],
      "metadata": {
        "colab": {
          "base_uri": "https://localhost:8080/"
        },
        "id": "peBfaIxHm8nC",
        "outputId": "38e7a288-e225-40bf-d7e3-6d909b81b141"
      },
      "execution_count": null,
      "outputs": [
        {
          "output_type": "stream",
          "name": "stdout",
          "text": [
            "[10, 11, 12, 13, 14, 15, 16, 17, 18, 19, 20, 21, 22, 23, 24, 25, 26, 27, 28, 29]\n",
            "l1--> [12, 29, 22, 19, 25, 14, 20, 24, 18, 15]\n",
            "l2--> [18, 17, 11, 26, 25, 15, 10, 24, 16, 28]\n"
          ]
        }
      ]
    },
    {
      "cell_type": "code",
      "source": [
        "#(i) Common numbers in the two lists\n",
        "for i in l1:\n",
        "  for j in l2:\n",
        "    if(i==j):\n",
        "      print(i)"
      ],
      "metadata": {
        "colab": {
          "base_uri": "https://localhost:8080/"
        },
        "id": "mMmS0Q50m8pg",
        "outputId": "5f0fdf0c-00cf-4cd5-a286-fbe5e9862ba3"
      },
      "execution_count": null,
      "outputs": [
        {
          "output_type": "stream",
          "name": "stdout",
          "text": [
            "25\n",
            "24\n",
            "18\n",
            "15\n"
          ]
        }
      ]
    },
    {
      "cell_type": "code",
      "source": [
        "#(iii) Minimum in both the list\n",
        "print(min(l1,l2))\n",
        "#min element\n",
        "minimum=min(min(l1),min(l2))\n",
        "print(\"minimum element=\",minimum)"
      ],
      "metadata": {
        "colab": {
          "base_uri": "https://localhost:8080/"
        },
        "id": "hgVwWUX1m8rX",
        "outputId": "ca2bed76-f862-4e04-d246-7fb02c7f0bba"
      },
      "execution_count": null,
      "outputs": [
        {
          "output_type": "stream",
          "name": "stdout",
          "text": [
            "[12, 29, 22, 19, 25, 14, 20, 24, 18, 15]\n"
          ]
        }
      ]
    },
    {
      "cell_type": "code",
      "source": [
        "#(iv) Maximum in both the list\n",
        "print(max(l1,l2))\n",
        "#max element\n",
        "max=max(max(l1),max(l2))\n",
        "print(\"minimum element=\",minimum)"
      ],
      "metadata": {
        "colab": {
          "base_uri": "https://localhost:8080/"
        },
        "id": "iYcmkjXPm8uf",
        "outputId": "4bbe7b7f-5d27-49e4-9088-a03ec1ed61a8"
      },
      "execution_count": null,
      "outputs": [
        {
          "output_type": "stream",
          "name": "stdout",
          "text": [
            "[18, 17, 11, 26, 25, 15, 10, 24, 16, 28]\n"
          ]
        }
      ]
    },
    {
      "cell_type": "code",
      "source": [
        "#(v) Sum of both the lists\n",
        "print(l1+l2)"
      ],
      "metadata": {
        "colab": {
          "base_uri": "https://localhost:8080/"
        },
        "id": "jrPAhQAB0d04",
        "outputId": "b1cff904-37b6-4d93-d194-5f664b4e44ba"
      },
      "execution_count": null,
      "outputs": [
        {
          "output_type": "stream",
          "name": "stdout",
          "text": [
            "[12, 29, 22, 19, 25, 14, 20, 24, 18, 15, 18, 17, 11, 26, 25, 15, 10, 24, 16, 28]\n"
          ]
        }
      ]
    },
    {
      "cell_type": "markdown",
      "source": [
        "Q6. WAP to create a list of 100 random numbers between 100 and 900. Count and print the:"
      ],
      "metadata": {
        "id": "qtjB8YTsyI9_"
      }
    },
    {
      "cell_type": "code",
      "source": [
        "l4=[i for i in range(100,900)]\n",
        "#print(l4)\n"
      ],
      "metadata": {
        "id": "iixt3SHG0d4-"
      },
      "execution_count": 36,
      "outputs": []
    },
    {
      "cell_type": "code",
      "source": [
        "list1=r.sample(l4,100)"
      ],
      "metadata": {
        "id": "8DOU2VNw0d8n"
      },
      "execution_count": 37,
      "outputs": []
    },
    {
      "cell_type": "code",
      "source": [
        "#(i) All odd numbers\n",
        "count=0\n",
        "for i in list1:\n",
        "  if(i%2!=0):\n",
        "    count=count+1\n",
        "    print(i)\n",
        "print(\"count is : \",count)"
      ],
      "metadata": {
        "colab": {
          "base_uri": "https://localhost:8080/"
        },
        "id": "sLpa5M6I1Rp-",
        "outputId": "74d9fbdf-3e57-4b00-831a-ca1914ae1888"
      },
      "execution_count": 38,
      "outputs": [
        {
          "output_type": "stream",
          "name": "stdout",
          "text": [
            "515\n",
            "843\n",
            "887\n",
            "263\n",
            "661\n",
            "351\n",
            "791\n",
            "431\n",
            "881\n",
            "827\n",
            "465\n",
            "357\n",
            "785\n",
            "591\n",
            "139\n",
            "361\n",
            "799\n",
            "489\n",
            "575\n",
            "759\n",
            "593\n",
            "551\n",
            "607\n",
            "407\n",
            "671\n",
            "335\n",
            "297\n",
            "767\n",
            "109\n",
            "249\n",
            "747\n",
            "169\n",
            "365\n",
            "633\n",
            "185\n",
            "117\n",
            "727\n",
            "233\n",
            "809\n",
            "823\n",
            "879\n",
            "503\n",
            "541\n",
            "647\n",
            "563\n",
            "209\n",
            "295\n",
            "729\n",
            "697\n",
            "663\n",
            "171\n",
            "399\n",
            "453\n",
            "127\n",
            "425\n",
            "count is :  55\n"
          ]
        }
      ]
    },
    {
      "cell_type": "code",
      "source": [
        "#(ii) All even numbers\n",
        "count=0\n",
        "for i in list1:\n",
        "  if(i%2==0):\n",
        "    count=count+1\n",
        "    print(i)\n",
        "print(\"count is : \",count)"
      ],
      "metadata": {
        "colab": {
          "base_uri": "https://localhost:8080/"
        },
        "id": "iXgerFXy1Rst",
        "outputId": "9a9389c4-0011-42d7-ba5e-fcb02fcffe74"
      },
      "execution_count": 39,
      "outputs": [
        {
          "output_type": "stream",
          "name": "stdout",
          "text": [
            "790\n",
            "604\n",
            "500\n",
            "238\n",
            "470\n",
            "626\n",
            "310\n",
            "852\n",
            "100\n",
            "580\n",
            "708\n",
            "234\n",
            "108\n",
            "236\n",
            "898\n",
            "680\n",
            "352\n",
            "522\n",
            "122\n",
            "504\n",
            "182\n",
            "514\n",
            "666\n",
            "320\n",
            "186\n",
            "150\n",
            "834\n",
            "576\n",
            "620\n",
            "358\n",
            "278\n",
            "892\n",
            "462\n",
            "498\n",
            "562\n",
            "832\n",
            "102\n",
            "386\n",
            "854\n",
            "600\n",
            "114\n",
            "444\n",
            "158\n",
            "846\n",
            "124\n",
            "count is :  45\n"
          ]
        }
      ]
    },
    {
      "cell_type": "code",
      "source": [
        "#(iii) All prime numbers\n",
        "count=0\n",
        "for n in list1:\n",
        "  if n>1:\n",
        "    for i in (2,n):\n",
        "      if(n%i==0):\n",
        "        break\n",
        "    else:\n",
        "      count=count+1\n",
        "      print(n)\n",
        "print(\"count is : \",count)"
      ],
      "metadata": {
        "colab": {
          "base_uri": "https://localhost:8080/"
        },
        "id": "hbYCQ3G81RvD",
        "outputId": "bd51bfa4-d364-45dc-9beb-12703ff6b5ad"
      },
      "execution_count": 40,
      "outputs": [
        {
          "output_type": "stream",
          "name": "stdout",
          "text": [
            "count is :  0\n"
          ]
        }
      ]
    },
    {
      "cell_type": "markdown",
      "source": [
        "Q7. D is a dictionary defined as D={1:\"One\",2:\"Two\",3:\"Three\",4:\"Four\", 5:\"Five\"}.\n"
      ],
      "metadata": {
        "id": "nwvUtW2hyvcd"
      }
    },
    {
      "cell_type": "code",
      "source": [
        "#WAP to read all the keys and values from dictionary and write to the file in the given below format. Key1, Value1 Key2, Value2 Key3, Value3\n",
        "D={1:\"One\",2:\"Two\",3:\"Three\",4:\"Four\",5:\"five\"}\n",
        "print(D.keys())"
      ],
      "metadata": {
        "colab": {
          "base_uri": "https://localhost:8080/"
        },
        "id": "cOnprXeu1RxZ",
        "outputId": "557c5c04-d826-467d-9d7e-79f3daeba063"
      },
      "execution_count": 41,
      "outputs": [
        {
          "output_type": "stream",
          "name": "stdout",
          "text": [
            "dict_keys([1, 2, 3, 4, 5])\n"
          ]
        }
      ]
    },
    {
      "cell_type": "code",
      "source": [
        "print(D.values())"
      ],
      "metadata": {
        "colab": {
          "base_uri": "https://localhost:8080/"
        },
        "id": "_ByWHa7w1Rzu",
        "outputId": "c6ba91b5-cffb-45a6-c425-c38c68952ed5"
      },
      "execution_count": 42,
      "outputs": [
        {
          "output_type": "stream",
          "name": "stdout",
          "text": [
            "dict_values(['One', 'Two', 'Three', 'Four', 'five'])\n"
          ]
        }
      ]
    },
    {
      "cell_type": "code",
      "source": [
        "fp=open(\"dict.txt\",'w')\n",
        "for key,value in D.items():\n",
        "  fp.write('%s,%s\\n'%(key,value))\n",
        "fp.close()\n"
      ],
      "metadata": {
        "id": "Fo1pqxmD1R3J"
      },
      "execution_count": 43,
      "outputs": []
    },
    {
      "cell_type": "markdown",
      "source": [
        "Q8. L is a list defined as L={\"One\",\"Two\",\"Three\",\"Four\",\"Five\"}.\n"
      ],
      "metadata": {
        "id": "La-f3FSczJLU"
      }
    },
    {
      "cell_type": "code",
      "source": [
        "#WAP to count the length of reach element from a list and write to the file in the given below format: One, 3 Two, 3 Four, 4\n",
        "l5=list({\"one\",\"two\",\"three\",\"four\",\"five\"})\n",
        "print(l5)\n",
        "for i in l5:\n",
        "  print(len(i))\n",
        "fp=open(\"list.txt\",\"w\")\n",
        "for i in l5:\n",
        "  fp.write('%s,%dn'%(i,len(i)))"
      ],
      "metadata": {
        "colab": {
          "base_uri": "https://localhost:8080/"
        },
        "id": "CJ8JNptAM6-u",
        "outputId": "220be528-09e5-4ab5-dc82-1dcf432b53a8"
      },
      "execution_count": 44,
      "outputs": [
        {
          "output_type": "stream",
          "name": "stdout",
          "text": [
            "['four', 'one', 'three', 'two', 'five']\n",
            "4\n",
            "3\n",
            "5\n",
            "3\n",
            "4\n"
          ]
        }
      ]
    },
    {
      "cell_type": "markdown",
      "source": [
        "Q9. Write to the file 100 random strings whose length between 10 and 15.\n"
      ],
      "metadata": {
        "id": "ToYPic8NzSMh"
      }
    },
    {
      "cell_type": "code",
      "source": [
        "fp=open(\"string.txt\",\"w\")\n",
        "print(\"string-->\",s.ascii_letters)\n",
        "\n",
        "for i in range(1,101):\n",
        "  a=r.randint(10,15)\n",
        "  str1=r.sample(s.ascii_letters,a)\n",
        "  fp.write('%s\\n'%str1)\n"
      ],
      "metadata": {
        "colab": {
          "base_uri": "https://localhost:8080/"
        },
        "id": "wdv3fLe5M7DZ",
        "outputId": "e4961b18-3be5-48d8-a99b-7a7db34627db"
      },
      "execution_count": 45,
      "outputs": [
        {
          "output_type": "stream",
          "name": "stdout",
          "text": [
            "string--> abcdefghijklmnopqrstuvwxyzABCDEFGHIJKLMNOPQRSTUVWXYZ\n"
          ]
        }
      ]
    },
    {
      "cell_type": "markdown",
      "source": [
        "Q10. Write to the file all prime numbers between 600 and 800.\n"
      ],
      "metadata": {
        "id": "IhitKeskzV_Y"
      }
    },
    {
      "cell_type": "code",
      "source": [
        "fp=open(\"primeno.txt\",\"w\")\n",
        "for n in range(600,801):\n",
        "  if n>1:\n",
        "    for i in range(2,n):\n",
        "      if n%i==0:\n",
        "        break\n",
        "    else:\n",
        "      fp.write(\"%d\\n\"%n)"
      ],
      "metadata": {
        "id": "j-Bj_Y-0QF5Y"
      },
      "execution_count": 46,
      "outputs": []
    },
    {
      "cell_type": "markdown",
      "source": [
        "Q11. WAP to calculate the time taken by a program\n"
      ],
      "metadata": {
        "id": "W97EmOW2zeON"
      }
    },
    {
      "cell_type": "code",
      "source": [
        "import time as t\n",
        "t1=t.time()\n",
        "print(\"hello world\")\n",
        "t2=t.time()\n",
        "t3=t2-t1\n",
        "print(t3)"
      ],
      "metadata": {
        "colab": {
          "base_uri": "https://localhost:8080/"
        },
        "id": "RUMmOonLQF9m",
        "outputId": "fd5dd70f-88b3-4ed3-cc17-f990fa782ac3"
      },
      "execution_count": 47,
      "outputs": [
        {
          "output_type": "stream",
          "name": "stdout",
          "text": [
            "hello world\n",
            "0.001176595687866211\n"
          ]
        }
      ]
    },
    {
      "cell_type": "markdown",
      "source": [
        "Q12. WAP to sort following number of elements in a list, calculate time taken and plot the graph.\n"
      ],
      "metadata": {
        "id": "eAeFk5-Ozj5v"
      }
    },
    {
      "cell_type": "code",
      "source": [
        "# Number of elements in list        Time Taken\n",
        "\n",
        "# 5k                                  T1\n",
        "# 10k                                 T2\n",
        "# 15k                                 T3\n",
        "# 20k                                 T4\n",
        "# 25k                                 T5\n",
        "\n",
        "import time\n",
        "import matplotlib.pyplot as plt\n",
        "\n",
        "def bubble_sort(arr):\n",
        "    n = len(arr)\n",
        "    for i in range(n-1):\n",
        "        for j in range(0, n-i-1):\n",
        "            if arr[j] > arr[j+1]:\n",
        "                arr[j], arr[j+1] = arr[j+1], arr[j]\n",
        "\n",
        "def generate_list(size):\n",
        "    return list(range(size))\n",
        "\n",
        "def measure_time_sorting(size):\n",
        "    arr = generate_list(size)\n",
        "    start_time = time.time()\n",
        "    bubble_sort(arr)  # You can replace bubble_sort with other sorting algorithms\n",
        "    end_time = time.time()\n",
        "    return end_time - start_time\n",
        "\n",
        "sizes = [5000, 10000, 15000, 20000, 25000]\n",
        "times = []\n",
        "\n",
        "for size in sizes:\n",
        "    time_taken = measure_time_sorting(size)\n",
        "    times.append(time_taken)\n",
        "    print(f\"Size: {size}, Time Taken: {time_taken} seconds\")\n",
        "\n",
        "plt.plot(sizes, times)\n",
        "plt.xlabel('Number of Elements in List')\n",
        "plt.ylabel('Time Taken (seconds)')\n",
        "plt.title('Sorting Time vs Number of Elements')\n",
        "plt.show()"
      ],
      "metadata": {
        "colab": {
          "base_uri": "https://localhost:8080/",
          "height": 559
        },
        "id": "sT7wL-OFzqVs",
        "outputId": "26a18b99-0f33-45fa-ae3c-04194c3bf003"
      },
      "execution_count": 48,
      "outputs": [
        {
          "output_type": "stream",
          "name": "stdout",
          "text": [
            "Size: 5000, Time Taken: 1.5060126781463623 seconds\n",
            "Size: 10000, Time Taken: 7.2529144287109375 seconds\n",
            "Size: 15000, Time Taken: 15.192227125167847 seconds\n",
            "Size: 20000, Time Taken: 28.32155203819275 seconds\n",
            "Size: 25000, Time Taken: 41.4667649269104 seconds\n"
          ]
        },
        {
          "output_type": "display_data",
          "data": {
            "text/plain": [
              "<Figure size 640x480 with 1 Axes>"
            ],
            "image/png": "[encoded data removed]"
          },
          "metadata": {}
        }
      ]
    },
    {
      "cell_type": "markdown",
      "source": [
        "Q13. WAP to create a dictionary of student marks in five subjects and you have to find the student\n",
        "having maximum and minimum average marks.\n",
        "\n"
      ],
      "metadata": {
        "id": "ClsJTpOvzu71"
      }
    },
    {
      "cell_type": "code",
      "source": [
        "from builtins import sum\n",
        "student_marks = {\n",
        "    'Tejay': [85, 90, 88, 92, 87],\n",
        "    'Hiram': [78, 85, 80, 82, 75],\n",
        "    'Shiteez': [90, 92, 95, 88, 85],\n",
        "    'Shadab': [80, 75, 82, 88, 90],\n",
        "    'Lovely': [85, 86, 89, 90, 82]\n",
        "}\n",
        "\n",
        "# Calculate average marks for each student\n",
        "average_marks = {name: sum(marks) / len(marks) for name, marks in student_marks.items()}\n",
        "\n",
        "# Find student with maximum average marks\n",
        "max_avg_student = max(average_marks, key=average_marks.get)\n",
        "\n",
        "# Find student with minimum average marks\n",
        "min_avg_student = min(average_marks, key=average_marks.get)\n",
        "\n",
        "print(f\"Student with maximum average marks: {max_avg_student}, Average marks: {average_marks[max_avg_student]}\")\n",
        "print(f\"Student with minimum average marks: {min_avg_student}, Average marks: {average_marks[min_avg_student]}\")"
      ],
      "metadata": {
        "colab": {
          "base_uri": "https://localhost:8080/"
        },
        "id": "Rwm3wEa-5o4V",
        "outputId": "ec9c5a9e-7ee5-4e09-d680-5f7960d1d811"
      },
      "execution_count": 58,
      "outputs": [
        {
          "output_type": "stream",
          "name": "stdout",
          "text": [
            "Student with maximum average marks: Shiteez, Average marks: 90.0\n",
            "Student with minimum average marks: Hiram, Average marks: 80.0\n"
          ]
        }
      ]
    }
  ]
}